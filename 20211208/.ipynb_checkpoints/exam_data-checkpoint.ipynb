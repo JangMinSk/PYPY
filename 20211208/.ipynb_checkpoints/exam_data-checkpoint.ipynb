{
 "cells": [
  {
   "cell_type": "markdown",
   "id": "f9a5dba3",
   "metadata": {},
   "source": [
    "# <Step1. 탐색>: 데이터의 기초 정보 살펴보기"
   ]
  },
  {
   "cell_type": "markdown",
   "id": "f58505b5",
   "metadata": {},
   "source": [
    "[Chipotle 데이터셋의 기본 정]"
   ]
  },
  {
   "cell_type": "code",
   "execution_count": 67,
   "id": "67491778",
   "metadata": {},
   "outputs": [
    {
     "name": "stdout",
     "output_type": "stream",
     "text": [
      "(4622, 5)\n",
      "----------------------------------\n",
      "<class 'pandas.core.frame.DataFrame'>\n",
      "RangeIndex: 4622 entries, 0 to 4621\n",
      "Data columns (total 5 columns):\n",
      " #   Column              Non-Null Count  Dtype \n",
      "---  ------              --------------  ----- \n",
      " 0   order_id            4622 non-null   int64 \n",
      " 1   quantity            4622 non-null   int64 \n",
      " 2   item_name           4622 non-null   object\n",
      " 3   choice_description  3376 non-null   object\n",
      " 4   item_price          4622 non-null   object\n",
      "dtypes: int64(2), object(3)\n",
      "memory usage: 180.7+ KB\n",
      "None\n"
     ]
    }
   ],
   "source": [
    "# pandas 모듈 임포트\n",
    "import pandas as pd\n",
    "\n",
    "# read_csv() 함수로 데이터를 Dataframe 형태로 불러옵니다\n",
    "# pd.read_csv(\"파일경로를 포함한 파일명\",sep=\"구분자\")\n",
    "# raw data를 상대 경로로 불러오기\n",
    "\n",
    "file_path = '../data/chipotle.tsv'\n",
    "chipo = pd.read_csv(file_path, sep ='\\t')\n",
    "\n",
    "print(chipo.shape)\n",
    "print(\"----------------------------------\")\n",
    "print(chipo.info())"
   ]
  },
  {
   "cell_type": "code",
   "execution_count": 68,
   "id": "0cc6c494",
   "metadata": {},
   "outputs": [
    {
     "data": {
      "text/html": [
       "<div>\n",
       "<style scoped>\n",
       "    .dataframe tbody tr th:only-of-type {\n",
       "        vertical-align: middle;\n",
       "    }\n",
       "\n",
       "    .dataframe tbody tr th {\n",
       "        vertical-align: top;\n",
       "    }\n",
       "\n",
       "    .dataframe thead th {\n",
       "        text-align: right;\n",
       "    }\n",
       "</style>\n",
       "<table border=\"1\" class=\"dataframe\">\n",
       "  <thead>\n",
       "    <tr style=\"text-align: right;\">\n",
       "      <th></th>\n",
       "      <th>order_id</th>\n",
       "      <th>quantity</th>\n",
       "      <th>item_name</th>\n",
       "      <th>choice_description</th>\n",
       "      <th>item_price</th>\n",
       "    </tr>\n",
       "  </thead>\n",
       "  <tbody>\n",
       "    <tr>\n",
       "      <th>0</th>\n",
       "      <td>1</td>\n",
       "      <td>1</td>\n",
       "      <td>Chips and Fresh Tomato Salsa</td>\n",
       "      <td>NaN</td>\n",
       "      <td>$2.39</td>\n",
       "    </tr>\n",
       "    <tr>\n",
       "      <th>1</th>\n",
       "      <td>1</td>\n",
       "      <td>1</td>\n",
       "      <td>Izze</td>\n",
       "      <td>[Clementine]</td>\n",
       "      <td>$3.39</td>\n",
       "    </tr>\n",
       "    <tr>\n",
       "      <th>2</th>\n",
       "      <td>1</td>\n",
       "      <td>1</td>\n",
       "      <td>Nantucket Nectar</td>\n",
       "      <td>[Apple]</td>\n",
       "      <td>$3.39</td>\n",
       "    </tr>\n",
       "    <tr>\n",
       "      <th>3</th>\n",
       "      <td>1</td>\n",
       "      <td>1</td>\n",
       "      <td>Chips and Tomatillo-Green Chili Salsa</td>\n",
       "      <td>NaN</td>\n",
       "      <td>$2.39</td>\n",
       "    </tr>\n",
       "    <tr>\n",
       "      <th>4</th>\n",
       "      <td>2</td>\n",
       "      <td>2</td>\n",
       "      <td>Chicken Bowl</td>\n",
       "      <td>[Tomatillo-Red Chili Salsa (Hot), [Black Beans...</td>\n",
       "      <td>$16.98</td>\n",
       "    </tr>\n",
       "    <tr>\n",
       "      <th>5</th>\n",
       "      <td>3</td>\n",
       "      <td>1</td>\n",
       "      <td>Chicken Bowl</td>\n",
       "      <td>[Fresh Tomato Salsa (Mild), [Rice, Cheese, Sou...</td>\n",
       "      <td>$10.98</td>\n",
       "    </tr>\n",
       "    <tr>\n",
       "      <th>6</th>\n",
       "      <td>3</td>\n",
       "      <td>1</td>\n",
       "      <td>Side of Chips</td>\n",
       "      <td>NaN</td>\n",
       "      <td>$1.69</td>\n",
       "    </tr>\n",
       "    <tr>\n",
       "      <th>7</th>\n",
       "      <td>4</td>\n",
       "      <td>1</td>\n",
       "      <td>Steak Burrito</td>\n",
       "      <td>[Tomatillo Red Chili Salsa, [Fajita Vegetables...</td>\n",
       "      <td>$11.75</td>\n",
       "    </tr>\n",
       "    <tr>\n",
       "      <th>8</th>\n",
       "      <td>4</td>\n",
       "      <td>1</td>\n",
       "      <td>Steak Soft Tacos</td>\n",
       "      <td>[Tomatillo Green Chili Salsa, [Pinto Beans, Ch...</td>\n",
       "      <td>$9.25</td>\n",
       "    </tr>\n",
       "    <tr>\n",
       "      <th>9</th>\n",
       "      <td>5</td>\n",
       "      <td>1</td>\n",
       "      <td>Steak Burrito</td>\n",
       "      <td>[Fresh Tomato Salsa, [Rice, Black Beans, Pinto...</td>\n",
       "      <td>$9.25</td>\n",
       "    </tr>\n",
       "  </tbody>\n",
       "</table>\n",
       "</div>"
      ],
      "text/plain": [
       "   order_id  quantity                              item_name  \\\n",
       "0         1         1           Chips and Fresh Tomato Salsa   \n",
       "1         1         1                                   Izze   \n",
       "2         1         1                       Nantucket Nectar   \n",
       "3         1         1  Chips and Tomatillo-Green Chili Salsa   \n",
       "4         2         2                           Chicken Bowl   \n",
       "5         3         1                           Chicken Bowl   \n",
       "6         3         1                          Side of Chips   \n",
       "7         4         1                          Steak Burrito   \n",
       "8         4         1                       Steak Soft Tacos   \n",
       "9         5         1                          Steak Burrito   \n",
       "\n",
       "                                  choice_description item_price  \n",
       "0                                                NaN     $2.39   \n",
       "1                                       [Clementine]     $3.39   \n",
       "2                                            [Apple]     $3.39   \n",
       "3                                                NaN     $2.39   \n",
       "4  [Tomatillo-Red Chili Salsa (Hot), [Black Beans...    $16.98   \n",
       "5  [Fresh Tomato Salsa (Mild), [Rice, Cheese, Sou...    $10.98   \n",
       "6                                                NaN     $1.69   \n",
       "7  [Tomatillo Red Chili Salsa, [Fajita Vegetables...    $11.75   \n",
       "8  [Tomatillo Green Chili Salsa, [Pinto Beans, Ch...     $9.25   \n",
       "9  [Fresh Tomato Salsa, [Rice, Black Beans, Pinto...     $9.25   "
      ]
     },
     "execution_count": 68,
     "metadata": {},
     "output_type": "execute_result"
    }
   ],
   "source": [
    "# chipo라는 데이터 프레임에서 순서대로 10개의 row 데이터를 보여줌\n",
    "# head() 함수에 인수를 생략하면 기본 5개의 데이터를 보여줌\n",
    "chipo.head(10) # 위에서 부터 출력해줌\n",
    "# print(\"----------------------------------\")\n",
    "# chipo.tail(10) # 밑에서 부터 출력해줌"
   ]
  },
  {
   "cell_type": "code",
   "execution_count": 69,
   "id": "0b413841",
   "metadata": {},
   "outputs": [
    {
     "name": "stdout",
     "output_type": "stream",
     "text": [
      "Index(['order_id', 'quantity', 'item_name', 'choice_description',\n",
      "       'item_price'],\n",
      "      dtype='object')\n",
      "----------------------------------\n",
      "RangeIndex(start=0, stop=4622, step=1)\n"
     ]
    }
   ],
   "source": [
    "# columns() 함수로 컴럼의 정보를 보여줌\n",
    "print(chipo.columns)\n",
    "print(\"----------------------------------\")\n",
    "print(chipo.index)"
   ]
  },
  {
   "cell_type": "markdown",
   "id": "74037ff5",
   "metadata": {},
   "source": [
    "# [Chipotle 데이터셋의 수치적 특징 파악]\n",
    "\n",
    "quantity 와 item_price의 요약 통계\n",
    "\n",
    "describe()함수로 요약 통계량 출력하기\n",
    "\n",
    "describe() 함수는 데이터 프레임의 통계 데이터에 대해 알려줌"
   ]
  },
  {
   "cell_type": "code",
   "execution_count": 70,
   "id": "205567ea",
   "metadata": {},
   "outputs": [
    {
     "data": {
      "text/html": [
       "<div>\n",
       "<style scoped>\n",
       "    .dataframe tbody tr th:only-of-type {\n",
       "        vertical-align: middle;\n",
       "    }\n",
       "\n",
       "    .dataframe tbody tr th {\n",
       "        vertical-align: top;\n",
       "    }\n",
       "\n",
       "    .dataframe thead th {\n",
       "        text-align: right;\n",
       "    }\n",
       "</style>\n",
       "<table border=\"1\" class=\"dataframe\">\n",
       "  <thead>\n",
       "    <tr style=\"text-align: right;\">\n",
       "      <th></th>\n",
       "      <th>quantity</th>\n",
       "    </tr>\n",
       "  </thead>\n",
       "  <tbody>\n",
       "    <tr>\n",
       "      <th>count</th>\n",
       "      <td>4622.000000</td>\n",
       "    </tr>\n",
       "    <tr>\n",
       "      <th>mean</th>\n",
       "      <td>1.075725</td>\n",
       "    </tr>\n",
       "    <tr>\n",
       "      <th>std</th>\n",
       "      <td>0.410186</td>\n",
       "    </tr>\n",
       "    <tr>\n",
       "      <th>min</th>\n",
       "      <td>1.000000</td>\n",
       "    </tr>\n",
       "    <tr>\n",
       "      <th>25%</th>\n",
       "      <td>1.000000</td>\n",
       "    </tr>\n",
       "    <tr>\n",
       "      <th>50%</th>\n",
       "      <td>1.000000</td>\n",
       "    </tr>\n",
       "    <tr>\n",
       "      <th>75%</th>\n",
       "      <td>1.000000</td>\n",
       "    </tr>\n",
       "    <tr>\n",
       "      <th>max</th>\n",
       "      <td>15.000000</td>\n",
       "    </tr>\n",
       "  </tbody>\n",
       "</table>\n",
       "</div>"
      ],
      "text/plain": [
       "          quantity\n",
       "count  4622.000000\n",
       "mean      1.075725\n",
       "std       0.410186\n",
       "min       1.000000\n",
       "25%       1.000000\n",
       "50%       1.000000\n",
       "75%       1.000000\n",
       "max      15.000000"
      ]
     },
     "execution_count": 70,
     "metadata": {},
     "output_type": "execute_result"
    }
   ],
   "source": [
    "# order_id는 숫자의 의미를 가지지 않기 때문에 str으로 변환\n",
    "chipo['order_id'] = chipo['order_id'].astype(str)\n",
    "# chipo dataframe에서 수치형 피처들의 요약 통계량을 확인\n",
    "chipo.describe()"
   ]
  },
  {
   "cell_type": "markdown",
   "id": "006f5a5c",
   "metadata": {},
   "source": [
    "unique() 함수로 범주형 피처의 개수 출력\n",
    "\n",
    "unique()는 데이터에 고유값들이 어떠한 종류들이 있는지 알고 싶을때 사용하는 함수"
   ]
  },
  {
   "cell_type": "code",
   "execution_count": 71,
   "id": "9daa7299",
   "metadata": {},
   "outputs": [
    {
     "data": {
      "text/plain": [
       "1834"
      ]
     },
     "execution_count": 71,
     "metadata": {},
     "output_type": "execute_result"
    }
   ],
   "source": [
    "# order_id의 개수를 출력\n",
    "len(chipo['order_id'].unique())"
   ]
  },
  {
   "cell_type": "code",
   "execution_count": 72,
   "id": "5afc8433",
   "metadata": {},
   "outputs": [
    {
     "data": {
      "text/plain": [
       "50"
      ]
     },
     "execution_count": 72,
     "metadata": {},
     "output_type": "execute_result"
    }
   ],
   "source": [
    "# item_name의 개수를 출력\n",
    "len(chipo['item_name'].unique())"
   ]
  },
  {
   "cell_type": "code",
   "execution_count": 93,
   "id": "951f7536",
   "metadata": {},
   "outputs": [
    {
     "name": "stdout",
     "output_type": "stream",
     "text": [
      "Top 1 : Chicken Bowl 726\n",
      "Top 2 : Chicken Burrito 553\n",
      "Top 3 : Chips and Guacamole 479\n",
      "Top 4 : Steak Burrito 368\n",
      "Top 5 : Canned Soft Drink 301\n",
      "Top 6 : Steak Bowl 211\n",
      "Top 7 : Chips 211\n",
      "Top 8 : Bottled Water 162\n",
      "Top 9 : Chicken Soft Tacos 115\n",
      "Top 10 : Chips and Fresh Tomato Salsa 110\n"
     ]
    }
   ],
   "source": [
    "# 가장 많이 주문한 item : top 10를 출력\n",
    "# value_counts() 함수는 시리즈 객체에만 적용\n",
    "\n",
    "item_count = chipo['item_name'].value_counts()[0:10] # 0 생략 가능\n",
    "for idx,(val,cnt) in enumerate(item_count.iteritems(),1):\n",
    "    print(\"Top\",idx,\":\",val,cnt)"
   ]
  },
  {
   "cell_type": "markdown",
   "id": "427075ef",
   "metadata": {},
   "source": [
    "enumerate 함수()\n",
    "https://blog.naver.com/PostView.nhn?blogId=dev_dog&logNo=222280984760&categoryNo=33&parentCategoryNo=0&viewDate=&currentPage=1&postListTopCurrentPage=1&from=postView\n",
    "iteritems()\n",
    "http://aispiration.com/sw4ds/sw4ds-python-iterator.html\n"
   ]
  },
  {
   "cell_type": "markdown",
   "id": "28a4d5b4",
   "metadata": {},
   "source": [
    "[item당 주문 개수 와 총량 구하기]"
   ]
  },
  {
   "cell_type": "code",
   "execution_count": 84,
   "id": "0dfb49d4",
   "metadata": {},
   "outputs": [
    {
     "data": {
      "text/plain": [
       "item_name\n",
       "6 Pack Soft Drink         54\n",
       "Barbacoa Bowl             66\n",
       "Barbacoa Burrito          91\n",
       "Barbacoa Crispy Tacos     11\n",
       "Barbacoa Salad Bowl       10\n",
       "Barbacoa Soft Tacos       25\n",
       "Bottled Water            162\n",
       "Bowl                       2\n",
       "Burrito                    6\n",
       "Canned Soda              104\n",
       "Name: order_id, dtype: int64"
      ]
     },
     "execution_count": 84,
     "metadata": {},
     "output_type": "execute_result"
    }
   ],
   "source": [
    "#item당 주문 개수 출력\n",
    "# groupy()는 함수 데이터 프레임에서 특정 피처를 기준으로 그룹을 생성하며 \n",
    "# 이를 통해 그룹별 연산 작용\n",
    "order_count = chipo.groupby('item_name')['order_id'].count()\n",
    "order_count[0:10] #아이템 별 주문 개수 출력"
   ]
  },
  {
   "cell_type": "code",
   "execution_count": 85,
   "id": "9b1fee61",
   "metadata": {},
   "outputs": [
    {
     "data": {
      "text/plain": [
       "item_name\n",
       "6 Pack Soft Drink         55\n",
       "Barbacoa Bowl             66\n",
       "Barbacoa Burrito          91\n",
       "Barbacoa Crispy Tacos     12\n",
       "Barbacoa Salad Bowl       10\n",
       "Barbacoa Soft Tacos       25\n",
       "Bottled Water            211\n",
       "Bowl                       4\n",
       "Burrito                    6\n",
       "Name: quantity, dtype: int64"
      ]
     },
     "execution_count": 85,
     "metadata": {},
     "output_type": "execute_result"
    }
   ],
   "source": [
    "# item당 주문 총량을 출력\n",
    "item_quantity = chipo.groupby('item_name')['quantity'].sum()\n",
    "item_quantity[0:9] #아이템별 주문 총량 출력"
   ]
  },
  {
   "cell_type": "code",
   "execution_count": 101,
   "id": "8934e2eb",
   "metadata": {},
   "outputs": [
    {
     "data": {
      "image/png": "[encoded data removed]",
      "text/plain": [
       "<Figure size 432x288 with 1 Axes>"
      ]
     },
     "metadata": {
      "needs_background": "light"
     },
     "output_type": "display_data"
    },
    {
     "data": {
      "image/png": "[encoded data removed]",
      "text/plain": [
       "<Figure size 432x288 with 1 Axes>"
      ]
     },
     "metadata": {
      "needs_background": "light"
     },
     "output_type": "display_data"
    },
    {
     "data": {
      "image/png": "[encoded data removed]",
      "text/plain": [
       "<Figure size 432x288 with 1 Axes>"
      ]
     },
     "metadata": {
      "needs_background": "light"
     },
     "output_type": "display_data"
    }
   ],
   "source": [
    "%matplotlib inline\n",
    "import numpy as np\n",
    "import matplotlib.pyplot as plt\n",
    "\n",
    "# 아이템별 주문의 총량을 막대 그래프로 시각화\n",
    "# tolist()는 시리즈를 리스트로 변환하는 함수\n",
    "item_name_list = item_quantity.index.tolist()\n",
    "# numpy.arange(시작,끝, 간격)으로 배열 만들기\n",
    "x_pos = np.arange(len(item_name_list))\n",
    "order_cnt =  item_quantity.values.tolist()\n",
    "\n",
    "# bar()는 막대 그래프를 출력해주는 함수\n",
    "plt.bar(x_pos,order_cnt,align = 'center')\n",
    "plt.ylabel('ordered_item_count')\n",
    "plt.xlabel('ordered_item')\n",
    "plt.title('Distribution of all orderd item')\n",
    "\n",
    "plt.show()\n",
    "\n",
    "# scatter plot 래프를 출력\n",
    "plt.scatter(x_pos,order_cnt,label = \"ordered_item_count\", color = 'black')\n",
    "plt.ylabel('ordered_item_count')\n",
    "plt.xlabel('ordered_item')\n",
    "plt.title('Distribution of all orderd item')\n",
    "plt.legend(loc = 'upper left')\n",
    "\n",
    "plt.show()\n",
    "\n",
    "plt.plot(x_pos,order_cnt,color = 'red')\n",
    "plt.ylabel('ordered_item_count')\n",
    "plt.xlabel('ordered_item')\n",
    "\n",
    "plt.show()"
   ]
  },
  {
   "cell_type": "code",
   "execution_count": null,
   "id": "c1b58918",
   "metadata": {},
   "outputs": [],
   "source": []
  }
 ],
 "metadata": {
  "kernelspec": {
   "display_name": "Python 3 (ipykernel)",
   "language": "python",
   "name": "python3"
  },
  "language_info": {
   "codemirror_mode": {
    "name": "ipython",
    "version": 3
   },
   "file_extension": ".py",
   "mimetype": "text/x-python",
   "name": "python",
   "nbconvert_exporter": "python",
   "pygments_lexer": "ipython3",
   "version": "3.9.7"
  }
 },
 "nbformat": 4,
 "nbformat_minor": 5
}
